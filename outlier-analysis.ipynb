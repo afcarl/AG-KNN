{
 "cells": [
  {
   "cell_type": "code",
   "execution_count": 22,
   "metadata": {},
   "outputs": [],
   "source": [
    "from sklearn.neighbors import BallTree\n",
    "from skbio import OrdinationResults\n",
    "import pandas as pd\n",
    "import numpy as np\n",
    "import qgrid\n",
    "from knn import KNN\n",
    "from sklearn.svm import OneClassSVM\n",
    "from sklearn.ensemble import IsolationForest"
   ]
  },
  {
   "cell_type": "code",
   "execution_count": 23,
   "metadata": {},
   "outputs": [],
   "source": [
    "qgrid.enable(dataframe=True)\n",
    "qgrid.set_grid_option('maxVisibleRows', 10)\n",
    "qgrid.set_grid_option('forceFitColumns', False)\n",
    "qgrid.set_grid_option('defaultColumnWidth', 120)\n",
    "#x = pd.DataFrame(np.random.random((100, 100)))"
   ]
  },
  {
   "cell_type": "code",
   "execution_count": 24,
   "metadata": {},
   "outputs": [],
   "source": [
    "pcoa = OrdinationResults.read('data/generalized-unifrac-0.1-pcoa/ordination.txt')\n",
    "metadata = pd.read_table('healthy_metadata.txt', \n",
    "                         index_col=0,dtype=str,\n",
    "                         na_values=['Unspecified', 'NaN'])\n",
    "metadata = metadata.iloc[:, 42:]"
   ]
  },
  {
   "cell_type": "code",
   "execution_count": 25,
   "metadata": {},
   "outputs": [],
   "source": [
    "m = (pcoa.samples**2).sum(axis=0)\n",
    "coords = pcoa.samples.loc[:, pcoa.proportion_explained.cumsum() < 0.99]\n",
    "metadata = metadata.sample(frac=1) \n",
    "#metadata['subset_healthy'] = np.logical_or( \n",
    "#    metadata.subset_healthy == 'Yes',\n",
    "#    metadata.subset_healthy == 'True'\n",
    "#)    \n",
    "coords = coords.reindex(index=metadata.index)"
   ]
  },
  {
   "cell_type": "code",
   "execution_count": 38,
   "metadata": {},
   "outputs": [],
   "source": [
    "obs_md = metadata.iloc[1000:] \n",
    "obs_md = obs_md.loc[obs_md.healthy=='True']\n",
    "svm = OneClassSVM(nu=0.5) \n",
    "#svm = IsolationForest(contamination=0.5, n_estimators=100)\n",
    "model = svm.fit(coords.loc[obs_md.index]) "
   ]
  },
  {
   "cell_type": "code",
   "execution_count": 39,
   "metadata": {},
   "outputs": [],
   "source": [
    "pred = model.predict(coords.iloc[:1000])"
   ]
  },
  {
   "cell_type": "code",
   "execution_count": 40,
   "metadata": {},
   "outputs": [
    {
     "data": {
      "application/vnd.jupyter.widget-view+json": {
       "model_id": "e6e2108a80ca4957b39e2c0d5f52a3f8",
       "version_major": 2,
       "version_minor": 0
      },
      "text/plain": [
       "A Jupyter Widget"
      ]
     },
     "metadata": {},
     "output_type": "display_data"
    }
   ],
   "source": [
    "pd.DataFrame({'healthy': metadata.iloc[:1000].healthy=='True', \n",
    "              'pred': pred==1}).astype(np.bool)"
   ]
  },
  {
   "cell_type": "code",
   "execution_count": 41,
   "metadata": {},
   "outputs": [
    {
     "data": {
      "text/plain": [
       "0.54021839808901673"
      ]
     },
     "execution_count": 41,
     "metadata": {},
     "output_type": "execute_result"
    }
   ],
   "source": [
    "from sklearn.metrics import roc_auc_score\n",
    "y_obs = metadata.iloc[:1000].healthy=='True'\n",
    "y_pred = pred==1\n",
    "#y_obs = obs_md.autoimmune != 'I do not have this condition'\n",
    "roc_auc_score(y_pred, y_obs, average='weighted')"
   ]
  },
  {
   "cell_type": "code",
   "execution_count": null,
   "metadata": {},
   "outputs": [],
   "source": []
  }
 ],
 "metadata": {
  "kernelspec": {
   "display_name": "Python 3",
   "language": "python",
   "name": "python3"
  },
  "language_info": {
   "codemirror_mode": {
    "name": "ipython",
    "version": 3
   },
   "file_extension": ".py",
   "mimetype": "text/x-python",
   "name": "python",
   "nbconvert_exporter": "python",
   "pygments_lexer": "ipython3",
   "version": "3.6.3"
  }
 },
 "nbformat": 4,
 "nbformat_minor": 2
}
