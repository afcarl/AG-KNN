{
 "cells": [
  {
   "cell_type": "code",
   "execution_count": 116,
   "metadata": {},
   "outputs": [],
   "source": [
    "from sklearn.neighbors import BallTree\n",
    "from skbio import OrdinationResults\n",
    "import pandas as pd\n",
    "import numpy as np\n",
    "import qgrid\n",
    "from knn import KNN\n",
    "from sklearn.svm import OneClassSVM\n",
    "from sklearn.ensemble import IsolationForest"
   ]
  },
  {
   "cell_type": "code",
   "execution_count": 117,
   "metadata": {},
   "outputs": [],
   "source": [
    "qgrid.enable(dataframe=True, series=True)\n",
    "qgrid.set_grid_option('maxVisibleRows', 10)\n",
    "qgrid.set_grid_option('forceFitColumns', False)\n",
    "qgrid.set_grid_option('defaultColumnWidth', 120)"
   ]
  },
  {
   "cell_type": "code",
   "execution_count": 118,
   "metadata": {},
   "outputs": [],
   "source": [
    "metadata = pd.read_table('data/ag_map_with_alpha.txt', \n",
    "                         index_col=0,dtype=str,\n",
    "                         na_values=['Unspecified', 'NaN'])\n",
    "metadata = metadata.iloc[:, 42:]"
   ]
  },
  {
   "cell_type": "code",
   "execution_count": 128,
   "metadata": {},
   "outputs": [],
   "source": [
    "def age_filter(x):\n",
    "    col = 'age_corrected'\n",
    "    return (float(x[col]) > 20 and float(x[col]) < 69) or pd.isnull(x[col])\n",
    "\n",
    "def autoimmune_filter(x):\n",
    "    col = 'autoimmune'\n",
    "    return x[col] == 'I do not have this condition' or pd.isnull(x[col])\n",
    "\n",
    "def antibiotics_filter(x):\n",
    "    col = 'antibiotic_history'\n",
    "    return x[col] != 'Year' or pd.isnull(x[col])\n",
    "\n",
    "def asd_filter(x):\n",
    "    col = 'asd'\n",
    "    return x[col] == 'I do not have this condition' or pd.isnull(x[col])\n",
    "\n",
    "def bmi_filter(x):\n",
    "    col = 'bmi_corrected'\n",
    "    return (float(x[col]) > 18.5 and float(x[col]) < 30) or pd.isnull(x[col])\n",
    "\n",
    "def cancer_filter(x):\n",
    "    col = 'cancer'\n",
    "    return x[col] == 'I do not have this condition' or pd.isnull(x[col])\n",
    "\n",
    "def cardiovascular_filter(x):\n",
    "    col = 'cardiovascular_disease'\n",
    "    return x[col] == 'I do not have this condition' or pd.isnull(x[col])\n",
    "\n",
    "def cdiff_filter(x):\n",
    "    col = 'cdiff'\n",
    "    return x[col] == 'I do not have this condition' or pd.isnull(x[col])\n",
    "\n",
    "def diabetes_filter(x):\n",
    "    col = 'diabetes'\n",
    "    return x[col] == 'I do not have this condition' or pd.isnull(x[col])\n",
    "\n",
    "def bipolar_filter(x):\n",
    "    col = 'depression_bipolar_schizophrenia'\n",
    "    return x[col] == 'I do not have this condition' or pd.isnull(x[col])\n",
    "\n",
    "def ibd_filter(x):\n",
    "    col = 'ibd'\n",
    "    return x[col] == 'I do not have this condition' or pd.isnull(x[col])\n",
    "\n",
    "def ibs_filter(x):\n",
    "    col = 'ibs'\n",
    "    return x[col] == 'I do not have this condition' or pd.isnull(x[col])\n",
    "\n",
    "def kidney_filter(x):\n",
    "    col = 'kidney_disease'\n",
    "    return x[col] == 'I do not have this condition' or pd.isnull(x[col])\n",
    "\n",
    "def thyroid_filter(x):\n",
    "    col = 'thyroid'\n",
    "    return x[col] == 'I do not have this condition' or pd.isnull(x[col])\n",
    "\n",
    "def lung_disease_filter(x):\n",
    "    col = 'lung_disease'\n",
    "    return x[col] == 'I do not have this condition' or pd.isnull(x[col])\n",
    "\n",
    "def sibo_filter(x):\n",
    "    col = 'sibo'\n",
    "    return x[col] == 'I do not have this condition' or pd.isnull(x[col])\n",
    "\n",
    "def fungal_filter(x):\n",
    "    col = 'fungal_overgrowth'\n",
    "    return x[col] == 'I do not have this condition' or pd.isnull(x[col])\n",
    "\n",
    "def mental_filter(x):\n",
    "    col = 'mental_illness'\n",
    "    return x['mental_illness'] == 'No' or pd.isnull(x[col])"
   ]
  },
  {
   "cell_type": "code",
   "execution_count": 110,
   "metadata": {},
   "outputs": [
    {
     "data": {
      "text/plain": [
       "True"
      ]
     },
     "execution_count": 110,
     "metadata": {},
     "output_type": "execute_result"
    }
   ],
   "source": [
    "np.isnan(metadata.loc['10317.000031505', 'ibd'])"
   ]
  },
  {
   "cell_type": "code",
   "execution_count": 130,
   "metadata": {},
   "outputs": [],
   "source": [
    "filters = ['age', 'autoimmune', 'antibiotics', 'asd', 'bmi',\n",
    "           'cancer', 'cardiovascular', 'cdiff', 'diabetes', \n",
    "           'kidney', 'thyroid', 'lung_disease', 'sibo',\n",
    "           'fungal', 'bipolar', 'ibd', 'ibs', 'mental'] \n",
    "\n",
    "healthy = np.array([True] * metadata.shape[0])\n",
    "for f in filters:\n",
    "    func = eval(f + \"_filter\")\n",
    "    healthy = np.logical_and(healthy, metadata.apply(func, axis=1))\n",
    "metadata['healthy'] = healthy"
   ]
  },
  {
   "cell_type": "code",
   "execution_count": 121,
   "metadata": {},
   "outputs": [
    {
     "data": {
      "text/plain": [
       "<matplotlib.axes._subplots.AxesSubplot at 0x11be33588>"
      ]
     },
     "execution_count": 121,
     "metadata": {},
     "output_type": "execute_result"
    },
    {
     "data": {
      "image/png": "[encoded data removed]",
      "text/plain": [
       "<matplotlib.figure.Figure at 0x117bb2e48>"
      ]
     },
     "metadata": {},
     "output_type": "display_data"
    }
   ],
   "source": [
    "import seaborn as sns\n",
    "%matplotlib inline\n",
    "sns.distplot(metadata.bmi_corrected.dropna().astype(np.float))"
   ]
  },
  {
   "cell_type": "code",
   "execution_count": 122,
   "metadata": {},
   "outputs": [
    {
     "data": {
      "text/plain": [
       "9264"
      ]
     },
     "execution_count": 122,
     "metadata": {},
     "output_type": "execute_result"
    }
   ],
   "source": [
    "metadata.apply(cancer_filter, axis=1).sum()"
   ]
  },
  {
   "cell_type": "code",
   "execution_count": 131,
   "metadata": {},
   "outputs": [],
   "source": [
    "metadata.to_csv('healthy_metadata.txt', sep='\\t')"
   ]
  },
  {
   "cell_type": "code",
   "execution_count": 127,
   "metadata": {},
   "outputs": [
    {
     "data": {
      "text/plain": [
       "3799"
      ]
     },
     "execution_count": 127,
     "metadata": {},
     "output_type": "execute_result"
    }
   ],
   "source": [
    "metadata.healthy.sum()"
   ]
  },
  {
   "cell_type": "code",
   "execution_count": 115,
   "metadata": {},
   "outputs": [
    {
     "data": {
      "application/vnd.jupyter.widget-view+json": {
       "model_id": "51d7882ac2f84d83923437843cc42f86",
       "version_major": 2,
       "version_minor": 0
      },
      "text/plain": [
       "A Jupyter Widget"
      ]
     },
     "metadata": {},
     "output_type": "display_data"
    }
   ],
   "source": [
    "metadata.sibo.value_counts()"
   ]
  },
  {
   "cell_type": "code",
   "execution_count": null,
   "metadata": {},
   "outputs": [],
   "source": []
  }
 ],
 "metadata": {
  "kernelspec": {
   "display_name": "Python 3",
   "language": "python",
   "name": "python3"
  },
  "language_info": {
   "codemirror_mode": {
    "name": "ipython",
    "version": 3
   },
   "file_extension": ".py",
   "mimetype": "text/x-python",
   "name": "python",
   "nbconvert_exporter": "python",
   "pygments_lexer": "ipython3",
   "version": "3.6.3"
  }
 },
 "nbformat": 4,
 "nbformat_minor": 2
}
