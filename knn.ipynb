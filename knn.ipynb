{
 "cells": [
  {
   "cell_type": "code",
   "execution_count": 10,
   "metadata": {},
   "outputs": [],
   "source": [
    "from sklearn.neighbors import BallTree\n",
    "from skbio import OrdinationResults\n",
    "import pandas as pd\n",
    "import numpy as np\n",
    "import qgrid\n",
    "from knn import KNN\n",
    "from sklearn.svm import OneClassSVM\n",
    "from sklearn.ensemble import IsolationForest"
   ]
  },
  {
   "cell_type": "code",
   "execution_count": 2,
   "metadata": {},
   "outputs": [],
   "source": [
    "qgrid.enable(dataframe=True)\n",
    "qgrid.set_grid_option('maxVisibleRows', 10)\n",
    "qgrid.set_grid_option('forceFitColumns', False)\n",
    "qgrid.set_grid_option('defaultColumnWidth', 120)\n",
    "#x = pd.DataFrame(np.random.random((100, 100)))"
   ]
  },
  {
   "cell_type": "code",
   "execution_count": 3,
   "metadata": {},
   "outputs": [],
   "source": [
    "pcoa = OrdinationResults.read('data/unweighted-unifrac-rare5000-pcoa/ordination.txt')\n",
    "metadata = pd.read_table('healthy_metadata.txt', \n",
    "                         index_col=0,dtype=str,\n",
    "                         na_values=['Unspecified', 'NaN'])"
   ]
  },
  {
   "cell_type": "code",
   "execution_count": 37,
   "metadata": {},
   "outputs": [],
   "source": [
    "m = (pcoa.samples**2).sum(axis=0)\n",
    "coords = pcoa.samples.loc[:, pcoa.proportion_explained.cumsum() < 0.99]\n",
    "coords, metadata = coords.align(metadata, axis=0, join='inner')\n",
    "metadata = metadata.sample(frac=1) \n",
    "#metadata['subset_healthy'] = np.logical_or( \n",
    "#    metadata.subset_healthy == 'Yes',\n",
    "#    metadata.subset_healthy == 'True'\n",
    "#)\n",
    "\n",
    "coords = coords.reindex(index=metadata.index)"
   ]
  },
  {
   "cell_type": "code",
   "execution_count": 45,
   "metadata": {},
   "outputs": [
    {
     "data": {
      "text/plain": [
       "KNeighborsRegressor(algorithm='auto', leaf_size=30, metric='minkowski',\n",
       "          metric_params=None, n_jobs=1, n_neighbors=5, p=2,\n",
       "          weights='uniform')"
      ]
     },
     "execution_count": 45,
     "metadata": {},
     "output_type": "execute_result"
    }
   ],
   "source": [
    "from sklearn.neighbors import KNeighborsClassifier, KNeighborsRegressor\n",
    "from sklearn.model_selection import StratifiedKFold\n",
    "from sklearn.preprocessing import LabelEncoder\n",
    "\n",
    "\n",
    "_X = coords.iloc[:8000]\n",
    "_y = metadata.iloc[:8000].age_corrected\n",
    "\n",
    "_y = _y.dropna()\n",
    "X, y = _X.align(_y, axis=0, join='inner')\n",
    "y = y.astype(np.float)\n",
    "X = X.values\n",
    "y = y.values\n",
    "\n",
    "#le = LabelEncoder()\n",
    "#y = le.fit_transform(y)\n",
    "\n",
    "#skf = StratifiedKFold(n_splits=2)\n",
    "#gen = skf.split(X, y)\n",
    "#train_index, test_index = next(gen)\n",
    "\n",
    "model = KNeighborsRegressor()\n",
    "model.fit(X[train_index], y[train_index])"
   ]
  },
  {
   "cell_type": "code",
   "execution_count": 46,
   "metadata": {},
   "outputs": [],
   "source": [
    "pred = model.predict(coords.iloc[8000:])"
   ]
  },
  {
   "cell_type": "code",
   "execution_count": 52,
   "metadata": {},
   "outputs": [
    {
     "data": {
      "text/plain": [
       "14.346666666666668"
      ]
     },
     "execution_count": 52,
     "metadata": {},
     "output_type": "execute_result"
    }
   ],
   "source": [
    "df = pd.DataFrame({'pred': pred, \n",
    "                   'obs': metadata.iloc[8000:].age_corrected})\n",
    "df = df.dropna().astype(np.float)\n",
    "np.abs(df.obs - df.pred).mean()"
   ]
  },
  {
   "cell_type": "code",
   "execution_count": 35,
   "metadata": {},
   "outputs": [
    {
     "data": {
      "text/plain": [
       "['cardiovascular_disease',\n",
       " 'cat',\n",
       " 'cdiff',\n",
       " 'census_region',\n",
       " 'chickenpox',\n",
       " 'clinical_condition',\n",
       " 'collection_date',\n",
       " 'collection_month',\n",
       " 'collection_season',\n",
       " 'collection_time',\n",
       " 'collection_timestamp',\n",
       " 'consume_animal_products_abx',\n",
       " 'contraceptive',\n",
       " 'cosmetics_frequency',\n",
       " 'country',\n",
       " 'country_of_birth',\n",
       " 'country_residence',\n",
       " 'csection',\n",
       " 'deodorant_use',\n",
       " 'depression_bipolar_schizophrenia',\n",
       " 'depth',\n",
       " 'description',\n",
       " 'diabetes',\n",
       " 'diabetes_type',\n",
       " 'diet_type',\n",
       " 'dna_extracted',\n",
       " 'dog',\n",
       " 'dominant_hand',\n",
       " 'drinking_water_source',\n",
       " 'drinks_per_session',\n",
       " 'economic_region',\n",
       " 'elevation',\n",
       " 'env_biome',\n",
       " 'env_feature',\n",
       " 'env_material',\n",
       " 'env_package',\n",
       " 'epilepsy_or_seizure_disorder',\n",
       " 'exercise_frequency',\n",
       " 'exercise_location',\n",
       " 'fed_as_infant',\n",
       " 'fermented_plant_frequency',\n",
       " 'flossing_frequency',\n",
       " 'flu_vaccine_date',\n",
       " 'frozen_dessert_frequency',\n",
       " 'fruit_frequency',\n",
       " 'fungal_overgrowth',\n",
       " 'geo_loc_name',\n",
       " 'gluten',\n",
       " 'has_physical_specimen',\n",
       " 'height_cm',\n",
       " 'height_units',\n",
       " 'high_fat_red_meat_frequency',\n",
       " 'homecooked_meals_frequency',\n",
       " 'host_common_name',\n",
       " 'host_subject_id',\n",
       " 'host_taxid',\n",
       " 'ibd',\n",
       " 'ibd_diagnosis',\n",
       " 'ibd_diagnosis_refined',\n",
       " 'ibs',\n",
       " 'kidney_disease',\n",
       " 'lactose',\n",
       " 'last_move',\n",
       " 'last_travel',\n",
       " 'latitude',\n",
       " 'level_of_education',\n",
       " 'liver_disease',\n",
       " 'livingwith',\n",
       " 'longitude',\n",
       " 'lowgrain_diet_type',\n",
       " 'lung_disease',\n",
       " 'meat_eggs_frequency',\n",
       " 'mental_illness',\n",
       " 'mental_illness_type_anorexia_nervosa',\n",
       " 'mental_illness_type_bipolar_disorder',\n",
       " 'mental_illness_type_bulimia_nervosa',\n",
       " 'mental_illness_type_depression',\n",
       " 'mental_illness_type_ptsd_posttraumatic_stress_disorder',\n",
       " 'mental_illness_type_schizophrenia',\n",
       " 'mental_illness_type_substance_abuse',\n",
       " 'mental_illness_type_unspecified',\n",
       " 'migraine',\n",
       " 'milk_cheese_frequency',\n",
       " 'milk_substitute_frequency',\n",
       " 'multivitamin',\n",
       " 'nail_biter',\n",
       " 'non_food_allergies_beestings',\n",
       " 'non_food_allergies_drug_eg_penicillin',\n",
       " 'non_food_allergies_pet_dander',\n",
       " 'non_food_allergies_poison_ivyoak',\n",
       " 'non_food_allergies_sun',\n",
       " 'non_food_allergies_unspecified',\n",
       " 'olive_oil',\n",
       " 'one_liter_of_water_a_day_frequency',\n",
       " 'other_supplement_frequency',\n",
       " 'pets_other',\n",
       " 'physical_specimen_location',\n",
       " 'physical_specimen_remaining',\n",
       " 'pku',\n",
       " 'pool_frequency',\n",
       " 'poultry_frequency',\n",
       " 'pregnant',\n",
       " 'prepared_meals_frequency',\n",
       " 'probiotic_frequency',\n",
       " 'public',\n",
       " 'qiita_study_id',\n",
       " 'race',\n",
       " 'ready_to_eat_meals_frequency',\n",
       " 'red_meat_frequency',\n",
       " 'roommates',\n",
       " 'roommates_in_study',\n",
       " 'salted_snacks_frequency',\n",
       " 'sample_type',\n",
       " 'scientific_name',\n",
       " 'seafood_frequency',\n",
       " 'seasonal_allergies',\n",
       " 'sex',\n",
       " 'sibo',\n",
       " 'skin_condition',\n",
       " 'sleep_duration',\n",
       " 'smoking_frequency',\n",
       " 'softener',\n",
       " 'specialized_diet_exclude_dairy',\n",
       " 'specialized_diet_exclude_nightshades',\n",
       " 'specialized_diet_exclude_refined_sugars',\n",
       " 'specialized_diet_fodmap',\n",
       " 'specialized_diet_halaal',\n",
       " 'specialized_diet_i_do_not_eat_a_specialized_diet',\n",
       " 'specialized_diet_kosher',\n",
       " 'specialized_diet_modified_paleo_diet',\n",
       " 'specialized_diet_other_restrictions_not_described_here',\n",
       " 'specialized_diet_paleodiet_or_primal_diet',\n",
       " 'specialized_diet_raw_food_diet',\n",
       " 'specialized_diet_unspecified',\n",
       " 'specialized_diet_westenprice_or_other_lowgrain_low_processed_fo',\n",
       " 'state',\n",
       " 'subset_age',\n",
       " 'subset_antibiotic_history',\n",
       " 'subset_bmi',\n",
       " 'subset_diabetes',\n",
       " 'subset_healthy',\n",
       " 'subset_ibd',\n",
       " 'sugar_sweetened_drink_frequency',\n",
       " 'sugary_sweets_frequency',\n",
       " 'survey_id',\n",
       " 'taxon_id',\n",
       " 'teethbrushing_frequency',\n",
       " 'thyroid',\n",
       " 'title',\n",
       " 'tonsils_removed',\n",
       " 'types_of_plants',\n",
       " 'vegetable_frequency',\n",
       " 'vitamin_b_supplement_frequency',\n",
       " 'vitamin_d_supplement_frequency',\n",
       " 'vivid_dreams',\n",
       " 'weight_change',\n",
       " 'weight_kg',\n",
       " 'weight_units',\n",
       " 'whole_eggs',\n",
       " 'whole_grain_frequency',\n",
       " 'height_corrected',\n",
       " 'weight_corrected',\n",
       " 'vioscreen_add_sug',\n",
       " 'vioscreen_a_bev',\n",
       " 'vioscreen_a_cal',\n",
       " 'vioscreen_alcohol_servings',\n",
       " 'vioscreen_bcodeid',\n",
       " 'vioscreen_calcium',\n",
       " 'vioscreen_calcium_avg',\n",
       " 'vioscreen_calcium_dose',\n",
       " 'vioscreen_calcium_freq',\n",
       " 'vioscreen_calcium_from_dairy_servings',\n",
       " 'vioscreen_calcium_servings',\n",
       " 'vioscreen_discfat_oil',\n",
       " 'vioscreen_discfat_sol',\n",
       " 'vioscreen_d_cheese',\n",
       " 'vioscreen_d_milk',\n",
       " 'vioscreen_d_total',\n",
       " 'vioscreen_d_tot_soym',\n",
       " 'vioscreen_d_yogurt',\n",
       " 'vioscreen_database',\n",
       " 'vioscreen_finished',\n",
       " 'vioscreen_frt5_day',\n",
       " 'vioscreen_frtsumm',\n",
       " 'vioscreen_f_citmlb',\n",
       " 'vioscreen_f_nj_citmlb',\n",
       " 'vioscreen_f_nj_other',\n",
       " 'vioscreen_f_nj_total',\n",
       " 'vioscreen_f_other',\n",
       " 'vioscreen_f_total',\n",
       " 'vioscreen_fish_servings',\n",
       " 'vioscreen_fried_fish_servings',\n",
       " 'vioscreen_fried_food_servings',\n",
       " 'vioscreen_fruit_servings',\n",
       " 'vioscreen_glac',\n",
       " 'vioscreen_gltc',\n",
       " 'vioscreen_g_nwhl',\n",
       " 'vioscreen_g_total',\n",
       " 'vioscreen_g_whl',\n",
       " 'vioscreen_hei2010_score',\n",
       " 'vioscreen_hei2010__dairy',\n",
       " 'vioscreen_hei2010__empty__calories',\n",
       " 'vioscreen_hei2010__fatty__acids',\n",
       " 'vioscreen_hei2010__fruit',\n",
       " 'vioscreen_hei2010__greens__beans',\n",
       " 'vioscreen_hei2010__protien__foods',\n",
       " 'vioscreen_hei2010__refined__grains',\n",
       " 'vioscreen_hei2010__sea_foods__plant_protiens',\n",
       " 'vioscreen_hei2010__sodium',\n",
       " 'vioscreen_hei2010__veg',\n",
       " 'vioscreen_hei2010__whole__fruit',\n",
       " 'vioscreen_hei2010__whole__grains',\n",
       " 'vioscreen_hei_score',\n",
       " 'vioscreen_hei__drk_g__org_veg__leg',\n",
       " 'vioscreen_hei__fruit',\n",
       " 'vioscreen_hei__grains',\n",
       " 'vioscreen_hei__meat__beans',\n",
       " 'vioscreen_hei__milk',\n",
       " 'vioscreen_hei__non_juice_frt',\n",
       " 'vioscreen_hei__oils',\n",
       " 'vioscreen_hei__sat_fat',\n",
       " 'vioscreen_hei__sodium',\n",
       " 'vioscreen_hei__sol_fat__alc__add_sug',\n",
       " 'vioscreen_hei__veg',\n",
       " 'vioscreen_hei__whl__grains',\n",
       " 'vioscreen_juice_servings',\n",
       " 'vioscreen_legumes',\n",
       " 'vioscreen_line_gi',\n",
       " 'vioscreen_low_fat_dairy_serving',\n",
       " 'vioscreen_m_egg',\n",
       " 'vioscreen_m_fish_hi',\n",
       " 'vioscreen_m_fish_lo',\n",
       " 'vioscreen_m_frank',\n",
       " 'vioscreen_m_meat',\n",
       " 'vioscreen_m_mpf',\n",
       " 'vioscreen_m_nutsd',\n",
       " 'vioscreen_m_organ',\n",
       " 'vioscreen_m_poult',\n",
       " 'vioscreen_m_soy',\n",
       " 'vioscreen_multi_calcium_avg',\n",
       " 'vioscreen_multi_calcium_dose',\n",
       " 'vioscreen_multivitamin',\n",
       " 'vioscreen_multivitamin_freq',\n",
       " 'vioscreen_non_fried_fish_servings',\n",
       " 'vioscreen_procdate',\n",
       " 'vioscreen_protocol',\n",
       " 'vioscreen_questionnaire',\n",
       " 'vioscreen_started',\n",
       " 'vioscreen_salad_vegetable_servings',\n",
       " 'vioscreen_sweet_servings',\n",
       " 'vioscreen_veg5_day',\n",
       " 'vioscreen_vegsumm',\n",
       " 'vioscreen_v_drkgr',\n",
       " 'vioscreen_v_orange',\n",
       " 'vioscreen_v_other',\n",
       " 'vioscreen_v_potato',\n",
       " 'vioscreen_v_starcy',\n",
       " 'vioscreen_v_tomato',\n",
       " 'vioscreen_v_total',\n",
       " 'vioscreen_vegetable_servings',\n",
       " 'vioscreen_whole_grain_servings',\n",
       " 'vioscreen_acesupot',\n",
       " 'vioscreen_addsugar',\n",
       " 'vioscreen_adsugtot',\n",
       " 'vioscreen_alanine',\n",
       " 'vioscreen_alcohol',\n",
       " 'vioscreen_alphacar',\n",
       " 'vioscreen_alphtoce',\n",
       " 'vioscreen_alphtoco',\n",
       " 'vioscreen_arginine',\n",
       " 'vioscreen_ash',\n",
       " 'vioscreen_aspartam',\n",
       " 'vioscreen_aspartic',\n",
       " 'vioscreen_avcarb',\n",
       " 'vioscreen_betacar',\n",
       " 'vioscreen_betacryp',\n",
       " 'vioscreen_betaine',\n",
       " 'vioscreen_betatoco',\n",
       " 'vioscreen_biochana',\n",
       " 'vioscreen_caffeine',\n",
       " 'vioscreen_calcium.1',\n",
       " 'vioscreen_calories',\n",
       " 'vioscreen_carbo',\n",
       " 'vioscreen_cholest',\n",
       " 'vioscreen_choline',\n",
       " 'vioscreen_clac9t11',\n",
       " 'vioscreen_clat10c12',\n",
       " 'vioscreen_copper',\n",
       " 'vioscreen_coumest',\n",
       " 'vioscreen_cystine',\n",
       " 'vioscreen_daidzein',\n",
       " 'vioscreen_delttoco',\n",
       " 'vioscreen_erythr',\n",
       " 'vioscreen_fat',\n",
       " 'vioscreen_fiber',\n",
       " 'vioscreen_fibh2o',\n",
       " 'vioscreen_fibinso',\n",
       " 'vioscreen_fol_deqv',\n",
       " 'vioscreen_fol_nat',\n",
       " 'vioscreen_fol_syn',\n",
       " 'vioscreen_formontn',\n",
       " 'vioscreen_fructose',\n",
       " 'vioscreen_galactos',\n",
       " 'vioscreen_gammtoco',\n",
       " 'vioscreen_genistn',\n",
       " 'vioscreen_glucose',\n",
       " 'vioscreen_glutamic',\n",
       " 'vioscreen_glycine',\n",
       " 'vioscreen_glycitn',\n",
       " 'vioscreen_grams',\n",
       " 'vioscreen_histidin',\n",
       " 'vioscreen_inositol',\n",
       " 'vioscreen_iron',\n",
       " 'vioscreen_isoleuc',\n",
       " 'vioscreen_isomalt',\n",
       " 'vioscreen_joules',\n",
       " 'vioscreen_lactitol',\n",
       " 'vioscreen_lactose',\n",
       " 'vioscreen_leucine',\n",
       " 'vioscreen_lutzeax',\n",
       " 'vioscreen_lycopene',\n",
       " 'vioscreen_lysine',\n",
       " 'vioscreen_magnes',\n",
       " 'vioscreen_maltitol',\n",
       " 'vioscreen_maltose',\n",
       " 'vioscreen_mangan',\n",
       " 'vioscreen_mannitol',\n",
       " 'vioscreen_methhis3',\n",
       " 'vioscreen_methion',\n",
       " 'vioscreen_mfa141',\n",
       " 'vioscreen_mfa161',\n",
       " 'vioscreen_mfa181',\n",
       " 'vioscreen_mfa201',\n",
       " 'vioscreen_mfa221',\n",
       " 'vioscreen_mfatot',\n",
       " 'vioscreen_natoco',\n",
       " 'vioscreen_nccglbr',\n",
       " 'vioscreen_nccglgr',\n",
       " 'vioscreen_niacin',\n",
       " 'vioscreen_niacineq',\n",
       " 'vioscreen_nitrogen',\n",
       " 'vioscreen_omega3',\n",
       " 'vioscreen_oxalic',\n",
       " 'vioscreen_oxalicm',\n",
       " 'vioscreen_pantothe',\n",
       " 'vioscreen_pectins',\n",
       " 'vioscreen_pfa182',\n",
       " 'vioscreen_pfa183',\n",
       " 'vioscreen_pfa183n3',\n",
       " 'vioscreen_pfa184',\n",
       " 'vioscreen_pfa204',\n",
       " 'vioscreen_pfa205',\n",
       " 'vioscreen_pfa225',\n",
       " 'vioscreen_pfa226',\n",
       " 'vioscreen_pfatot',\n",
       " 'vioscreen_phenylal',\n",
       " 'vioscreen_phosphor',\n",
       " 'vioscreen_phytic',\n",
       " 'vioscreen_pinitol',\n",
       " 'vioscreen_potass',\n",
       " 'vioscreen_proline',\n",
       " 'vioscreen_protanim',\n",
       " 'vioscreen_protein',\n",
       " 'vioscreen_protveg',\n",
       " 'vioscreen_retinol',\n",
       " 'vioscreen_rgrain',\n",
       " 'vioscreen_ribofla',\n",
       " 'vioscreen_sacchar',\n",
       " 'vioscreen_satoco',\n",
       " 'vioscreen_selenium',\n",
       " 'vioscreen_serine',\n",
       " 'vioscreen_sfa100',\n",
       " 'vioscreen_sfa120',\n",
       " 'vioscreen_sfa140',\n",
       " 'vioscreen_sfa160',\n",
       " 'vioscreen_sfa170',\n",
       " 'vioscreen_sfa180',\n",
       " 'vioscreen_sfa200',\n",
       " 'vioscreen_sfa220',\n",
       " 'vioscreen_sfa40',\n",
       " 'vioscreen_sfa60',\n",
       " 'vioscreen_sfa80',\n",
       " 'vioscreen_sfatot',\n",
       " 'vioscreen_sodium',\n",
       " 'vioscreen_solidfat',\n",
       " 'vioscreen_sorbitol',\n",
       " 'vioscreen_starch',\n",
       " 'vioscreen_sucpoly',\n",
       " 'vioscreen_sucrlose',\n",
       " 'vioscreen_sucrose',\n",
       " 'vioscreen_tagatose',\n",
       " 'vioscreen_tfa161t',\n",
       " 'vioscreen_tfa181t',\n",
       " 'vioscreen_tfa182t',\n",
       " 'vioscreen_tgrain',\n",
       " 'vioscreen_thiamin',\n",
       " 'vioscreen_threonin',\n",
       " 'vioscreen_totaltfa',\n",
       " 'vioscreen_totcla',\n",
       " 'vioscreen_totfolat',\n",
       " 'vioscreen_totsugar',\n",
       " 'vioscreen_tryptoph',\n",
       " 'vioscreen_tyrosine',\n",
       " 'vioscreen_valine',\n",
       " 'vioscreen_vita_iu',\n",
       " 'vioscreen_vita_rae',\n",
       " 'vioscreen_vita_re',\n",
       " 'vioscreen_vitb12',\n",
       " 'vioscreen_vitb6',\n",
       " 'vioscreen_vitc',\n",
       " 'vioscreen_vitd',\n",
       " 'vioscreen_vitd2',\n",
       " 'vioscreen_vitd3',\n",
       " 'vioscreen_vitd_iu',\n",
       " 'vioscreen_vite_iu',\n",
       " 'vioscreen_vitk',\n",
       " 'vioscreen_water',\n",
       " 'vioscreen_wgrain',\n",
       " 'vioscreen_xylitol',\n",
       " 'vioscreen_zinc',\n",
       " 'seq_depth',\n",
       " 'observed_otus_1250',\n",
       " 'faiths_pd_1250',\n",
       " 'shannon_1250',\n",
       " 'healthy']"
      ]
     },
     "execution_count": 35,
     "metadata": {},
     "output_type": "execute_result"
    }
   ],
   "source": [
    "list(metadata.columns)"
   ]
  },
  {
   "cell_type": "code",
   "execution_count": 198,
   "metadata": {},
   "outputs": [
    {
     "ename": "ValueError",
     "evalue": "query data dimension must match training data dimension",
     "output_type": "error",
     "traceback": [
      "\u001b[0;31m---------------------------------------------------------------------------\u001b[0m",
      "\u001b[0;31mValueError\u001b[0m                                Traceback (most recent call last)",
      "\u001b[0;32m<ipython-input-198-1f561894a62a>\u001b[0m in \u001b[0;36m<module>\u001b[0;34m()\u001b[0m\n\u001b[0;32m----> 1\u001b[0;31m \u001b[0mpred\u001b[0m \u001b[0;34m=\u001b[0m \u001b[0mmodel\u001b[0m\u001b[0;34m.\u001b[0m\u001b[0mpredict\u001b[0m\u001b[0;34m(\u001b[0m\u001b[0mcoords\u001b[0m\u001b[0;34m.\u001b[0m\u001b[0miloc\u001b[0m\u001b[0;34m[\u001b[0m\u001b[0;34m:\u001b[0m\u001b[0;36m1000\u001b[0m\u001b[0;34m]\u001b[0m\u001b[0;34m)\u001b[0m\u001b[0;34m\u001b[0m\u001b[0m\n\u001b[0m",
      "\u001b[0;32m~/Dropbox/UCSD/classes/cse258/assignment2/knn.py\u001b[0m in \u001b[0;36mpredict\u001b[0;34m(self, X)\u001b[0m\n\u001b[1;32m     71\u001b[0m         \u001b[0mgen\u001b[0m \u001b[0;34m=\u001b[0m \u001b[0mself\u001b[0m\u001b[0;34m.\u001b[0m\u001b[0mquery\u001b[0m\u001b[0;34m(\u001b[0m\u001b[0mX\u001b[0m\u001b[0;34m)\u001b[0m\u001b[0;34m\u001b[0m\u001b[0m\n\u001b[1;32m     72\u001b[0m         \u001b[0;31m# Need to figure out how to aggregate findings.\u001b[0m\u001b[0;34m\u001b[0m\u001b[0;34m\u001b[0m\u001b[0m\n\u001b[0;32m---> 73\u001b[0;31m         \u001b[0;32mfor\u001b[0m \u001b[0mi\u001b[0m\u001b[0;34m,\u001b[0m \u001b[0;34m(\u001b[0m\u001b[0mdist\u001b[0m\u001b[0;34m,\u001b[0m \u001b[0mmd\u001b[0m\u001b[0;34m)\u001b[0m \u001b[0;32min\u001b[0m \u001b[0menumerate\u001b[0m\u001b[0;34m(\u001b[0m\u001b[0mgen\u001b[0m\u001b[0;34m)\u001b[0m\u001b[0;34m:\u001b[0m\u001b[0;34m\u001b[0m\u001b[0m\n\u001b[0m\u001b[1;32m     74\u001b[0m             \u001b[0mx\u001b[0m \u001b[0;34m=\u001b[0m \u001b[0mX\u001b[0m\u001b[0;34m.\u001b[0m\u001b[0mindex\u001b[0m\u001b[0;34m[\u001b[0m\u001b[0mi\u001b[0m\u001b[0;34m]\u001b[0m\u001b[0;34m\u001b[0m\u001b[0m\n\u001b[1;32m     75\u001b[0m             \u001b[0;32mfor\u001b[0m \u001b[0mc\u001b[0m \u001b[0;32min\u001b[0m \u001b[0mself\u001b[0m\u001b[0;34m.\u001b[0m\u001b[0mmetadata\u001b[0m\u001b[0;34m.\u001b[0m\u001b[0mcolumns\u001b[0m\u001b[0;34m:\u001b[0m\u001b[0;34m\u001b[0m\u001b[0m\n",
      "\u001b[0;32m~/Dropbox/UCSD/classes/cse258/assignment2/knn.py\u001b[0m in \u001b[0;36mquery\u001b[0;34m(self, X)\u001b[0m\n\u001b[1;32m     47\u001b[0m         \"\"\"\n\u001b[1;32m     48\u001b[0m \u001b[0;34m\u001b[0m\u001b[0m\n\u001b[0;32m---> 49\u001b[0;31m         \u001b[0mdist\u001b[0m\u001b[0;34m,\u001b[0m \u001b[0mind\u001b[0m \u001b[0;34m=\u001b[0m \u001b[0mself\u001b[0m\u001b[0;34m.\u001b[0m\u001b[0mtree\u001b[0m\u001b[0;34m.\u001b[0m\u001b[0mquery\u001b[0m\u001b[0;34m(\u001b[0m\u001b[0mX\u001b[0m\u001b[0;34m.\u001b[0m\u001b[0mvalues\u001b[0m\u001b[0;34m,\u001b[0m \u001b[0mk\u001b[0m\u001b[0;34m=\u001b[0m\u001b[0mself\u001b[0m\u001b[0;34m.\u001b[0m\u001b[0mk\u001b[0m\u001b[0;34m)\u001b[0m\u001b[0;34m\u001b[0m\u001b[0m\n\u001b[0m\u001b[1;32m     50\u001b[0m         \u001b[0;32mfor\u001b[0m \u001b[0mi\u001b[0m \u001b[0;32min\u001b[0m \u001b[0mrange\u001b[0m\u001b[0;34m(\u001b[0m\u001b[0mX\u001b[0m\u001b[0;34m.\u001b[0m\u001b[0mshape\u001b[0m\u001b[0;34m[\u001b[0m\u001b[0;36m0\u001b[0m\u001b[0;34m]\u001b[0m\u001b[0;34m)\u001b[0m\u001b[0;34m:\u001b[0m\u001b[0;34m\u001b[0m\u001b[0m\n\u001b[1;32m     51\u001b[0m             \u001b[0mmd\u001b[0m \u001b[0;34m=\u001b[0m \u001b[0mself\u001b[0m\u001b[0;34m.\u001b[0m\u001b[0mmetadata\u001b[0m\u001b[0;34m.\u001b[0m\u001b[0miloc\u001b[0m\u001b[0;34m[\u001b[0m\u001b[0mind\u001b[0m\u001b[0;34m[\u001b[0m\u001b[0mi\u001b[0m\u001b[0;34m]\u001b[0m\u001b[0;34m.\u001b[0m\u001b[0mravel\u001b[0m\u001b[0;34m(\u001b[0m\u001b[0;34m)\u001b[0m\u001b[0;34m]\u001b[0m\u001b[0;34m\u001b[0m\u001b[0m\n",
      "\u001b[0;32msklearn/neighbors/binary_tree.pxi\u001b[0m in \u001b[0;36msklearn.neighbors.ball_tree.BinaryTree.query\u001b[0;34m()\u001b[0m\n",
      "\u001b[0;31mValueError\u001b[0m: query data dimension must match training data dimension"
     ]
    }
   ],
   "source": [
    "\n",
    "pred = model.predict(coords.iloc[:1000], metadata.iloc[:5000])"
   ]
  },
  {
   "cell_type": "code",
   "execution_count": 199,
   "metadata": {},
   "outputs": [],
   "source": [
    "pred = pd.Series(pred, index=coords.iloc[:1000].index, name='pred')"
   ]
  },
  {
   "cell_type": "code",
   "execution_count": 200,
   "metadata": {},
   "outputs": [
    {
     "ename": "ValueError",
     "evalue": "Found input variables with inconsistent numbers of samples: [1000, 5000]",
     "output_type": "error",
     "traceback": [
      "\u001b[0;31m---------------------------------------------------------------------------\u001b[0m",
      "\u001b[0;31mValueError\u001b[0m                                Traceback (most recent call last)",
      "\u001b[0;32m<ipython-input-200-9f5b86f993de>\u001b[0m in \u001b[0;36m<module>\u001b[0;34m()\u001b[0m\n\u001b[1;32m      4\u001b[0m \u001b[0;31m#y_obs = obs_md.autoimmune != 'I do not have this condition'\u001b[0m\u001b[0;34m\u001b[0m\u001b[0;34m\u001b[0m\u001b[0m\n\u001b[1;32m      5\u001b[0m \u001b[0my_obs\u001b[0m \u001b[0;34m=\u001b[0m \u001b[0mobs_md\u001b[0m\u001b[0;34m.\u001b[0m\u001b[0msubset_healthy\u001b[0m\u001b[0;34m\u001b[0m\u001b[0m\n\u001b[0;32m----> 6\u001b[0;31m \u001b[0mroc_auc_score\u001b[0m\u001b[0;34m(\u001b[0m\u001b[0my_pred\u001b[0m\u001b[0;34m,\u001b[0m \u001b[0my_obs\u001b[0m\u001b[0;34m,\u001b[0m \u001b[0maverage\u001b[0m\u001b[0;34m=\u001b[0m\u001b[0;34m'weighted'\u001b[0m\u001b[0;34m)\u001b[0m\u001b[0;34m\u001b[0m\u001b[0m\n\u001b[0m",
      "\u001b[0;32m~/miniconda3/envs/cse258/lib/python3.6/site-packages/sklearn/metrics/ranking.py\u001b[0m in \u001b[0;36mroc_auc_score\u001b[0;34m(y_true, y_score, average, sample_weight)\u001b[0m\n\u001b[1;32m    263\u001b[0m     return _average_binary_score(\n\u001b[1;32m    264\u001b[0m         \u001b[0m_binary_roc_auc_score\u001b[0m\u001b[0;34m,\u001b[0m \u001b[0my_true\u001b[0m\u001b[0;34m,\u001b[0m \u001b[0my_score\u001b[0m\u001b[0;34m,\u001b[0m \u001b[0maverage\u001b[0m\u001b[0;34m,\u001b[0m\u001b[0;34m\u001b[0m\u001b[0m\n\u001b[0;32m--> 265\u001b[0;31m         sample_weight=sample_weight)\n\u001b[0m\u001b[1;32m    266\u001b[0m \u001b[0;34m\u001b[0m\u001b[0m\n\u001b[1;32m    267\u001b[0m \u001b[0;34m\u001b[0m\u001b[0m\n",
      "\u001b[0;32m~/miniconda3/envs/cse258/lib/python3.6/site-packages/sklearn/metrics/base.py\u001b[0m in \u001b[0;36m_average_binary_score\u001b[0;34m(binary_metric, y_true, y_score, average, sample_weight)\u001b[0m\n\u001b[1;32m     73\u001b[0m \u001b[0;34m\u001b[0m\u001b[0m\n\u001b[1;32m     74\u001b[0m     \u001b[0;32mif\u001b[0m \u001b[0my_type\u001b[0m \u001b[0;34m==\u001b[0m \u001b[0;34m\"binary\"\u001b[0m\u001b[0;34m:\u001b[0m\u001b[0;34m\u001b[0m\u001b[0m\n\u001b[0;32m---> 75\u001b[0;31m         \u001b[0;32mreturn\u001b[0m \u001b[0mbinary_metric\u001b[0m\u001b[0;34m(\u001b[0m\u001b[0my_true\u001b[0m\u001b[0;34m,\u001b[0m \u001b[0my_score\u001b[0m\u001b[0;34m,\u001b[0m \u001b[0msample_weight\u001b[0m\u001b[0;34m=\u001b[0m\u001b[0msample_weight\u001b[0m\u001b[0;34m)\u001b[0m\u001b[0;34m\u001b[0m\u001b[0m\n\u001b[0m\u001b[1;32m     76\u001b[0m \u001b[0;34m\u001b[0m\u001b[0m\n\u001b[1;32m     77\u001b[0m     \u001b[0mcheck_consistent_length\u001b[0m\u001b[0;34m(\u001b[0m\u001b[0my_true\u001b[0m\u001b[0;34m,\u001b[0m \u001b[0my_score\u001b[0m\u001b[0;34m,\u001b[0m \u001b[0msample_weight\u001b[0m\u001b[0;34m)\u001b[0m\u001b[0;34m\u001b[0m\u001b[0m\n",
      "\u001b[0;32m~/miniconda3/envs/cse258/lib/python3.6/site-packages/sklearn/metrics/ranking.py\u001b[0m in \u001b[0;36m_binary_roc_auc_score\u001b[0;34m(y_true, y_score, sample_weight)\u001b[0m\n\u001b[1;32m    258\u001b[0m \u001b[0;34m\u001b[0m\u001b[0m\n\u001b[1;32m    259\u001b[0m         fpr, tpr, tresholds = roc_curve(y_true, y_score,\n\u001b[0;32m--> 260\u001b[0;31m                                         sample_weight=sample_weight)\n\u001b[0m\u001b[1;32m    261\u001b[0m         \u001b[0;32mreturn\u001b[0m \u001b[0mauc\u001b[0m\u001b[0;34m(\u001b[0m\u001b[0mfpr\u001b[0m\u001b[0;34m,\u001b[0m \u001b[0mtpr\u001b[0m\u001b[0;34m,\u001b[0m \u001b[0mreorder\u001b[0m\u001b[0;34m=\u001b[0m\u001b[0;32mTrue\u001b[0m\u001b[0;34m)\u001b[0m\u001b[0;34m\u001b[0m\u001b[0m\n\u001b[1;32m    262\u001b[0m \u001b[0;34m\u001b[0m\u001b[0m\n",
      "\u001b[0;32m~/miniconda3/envs/cse258/lib/python3.6/site-packages/sklearn/metrics/ranking.py\u001b[0m in \u001b[0;36mroc_curve\u001b[0;34m(y_true, y_score, pos_label, sample_weight, drop_intermediate)\u001b[0m\n\u001b[1;32m    508\u001b[0m     \"\"\"\n\u001b[1;32m    509\u001b[0m     fps, tps, thresholds = _binary_clf_curve(\n\u001b[0;32m--> 510\u001b[0;31m         y_true, y_score, pos_label=pos_label, sample_weight=sample_weight)\n\u001b[0m\u001b[1;32m    511\u001b[0m \u001b[0;34m\u001b[0m\u001b[0m\n\u001b[1;32m    512\u001b[0m     \u001b[0;31m# Attempt to drop thresholds corresponding to points in between and\u001b[0m\u001b[0;34m\u001b[0m\u001b[0;34m\u001b[0m\u001b[0m\n",
      "\u001b[0;32m~/miniconda3/envs/cse258/lib/python3.6/site-packages/sklearn/metrics/ranking.py\u001b[0m in \u001b[0;36m_binary_clf_curve\u001b[0;34m(y_true, y_score, pos_label, sample_weight)\u001b[0m\n\u001b[1;32m    300\u001b[0m         \u001b[0mDecreasing\u001b[0m \u001b[0mscore\u001b[0m \u001b[0mvalues\u001b[0m\u001b[0;34m.\u001b[0m\u001b[0;34m\u001b[0m\u001b[0m\n\u001b[1;32m    301\u001b[0m     \"\"\"\n\u001b[0;32m--> 302\u001b[0;31m     \u001b[0mcheck_consistent_length\u001b[0m\u001b[0;34m(\u001b[0m\u001b[0my_true\u001b[0m\u001b[0;34m,\u001b[0m \u001b[0my_score\u001b[0m\u001b[0;34m)\u001b[0m\u001b[0;34m\u001b[0m\u001b[0m\n\u001b[0m\u001b[1;32m    303\u001b[0m     \u001b[0my_true\u001b[0m \u001b[0;34m=\u001b[0m \u001b[0mcolumn_or_1d\u001b[0m\u001b[0;34m(\u001b[0m\u001b[0my_true\u001b[0m\u001b[0;34m)\u001b[0m\u001b[0;34m\u001b[0m\u001b[0m\n\u001b[1;32m    304\u001b[0m     \u001b[0my_score\u001b[0m \u001b[0;34m=\u001b[0m \u001b[0mcolumn_or_1d\u001b[0m\u001b[0;34m(\u001b[0m\u001b[0my_score\u001b[0m\u001b[0;34m)\u001b[0m\u001b[0;34m\u001b[0m\u001b[0m\n",
      "\u001b[0;32m~/miniconda3/envs/cse258/lib/python3.6/site-packages/sklearn/utils/validation.py\u001b[0m in \u001b[0;36mcheck_consistent_length\u001b[0;34m(*arrays)\u001b[0m\n\u001b[1;32m    171\u001b[0m     \u001b[0;32mif\u001b[0m \u001b[0mlen\u001b[0m\u001b[0;34m(\u001b[0m\u001b[0muniques\u001b[0m\u001b[0;34m)\u001b[0m \u001b[0;34m>\u001b[0m \u001b[0;36m1\u001b[0m\u001b[0;34m:\u001b[0m\u001b[0;34m\u001b[0m\u001b[0m\n\u001b[1;32m    172\u001b[0m         raise ValueError(\"Found input variables with inconsistent numbers of\"\n\u001b[0;32m--> 173\u001b[0;31m                          \" samples: %r\" % [int(l) for l in lengths])\n\u001b[0m\u001b[1;32m    174\u001b[0m \u001b[0;34m\u001b[0m\u001b[0m\n\u001b[1;32m    175\u001b[0m \u001b[0;34m\u001b[0m\u001b[0m\n",
      "\u001b[0;31mValueError\u001b[0m: Found input variables with inconsistent numbers of samples: [1000, 5000]"
     ]
    }
   ],
   "source": [
    "from sklearn.metrics import roc_auc_score\n",
    "obs_md = metadata.iloc[:5000]\n",
    "y_pred = pred==1\n",
    "#y_obs = obs_md.autoimmune != 'I do not have this condition'\n",
    "y_obs = obs_md.subset_healthy\n",
    "roc_auc_score(y_pred, y_obs, average='weighted')"
   ]
  },
  {
   "cell_type": "code",
   "execution_count": 126,
   "metadata": {},
   "outputs": [
    {
     "data": {
      "text/plain": [
       "0.53313981615868411"
      ]
     },
     "execution_count": 126,
     "metadata": {},
     "output_type": "execute_result"
    }
   ],
   "source": [
    "np.sum(np.logical_and(y_pred, y_obs)) / np.sum(y_obs)"
   ]
  },
  {
   "cell_type": "code",
   "execution_count": 127,
   "metadata": {},
   "outputs": [
    {
     "data": {
      "application/vnd.jupyter.widget-view+json": {
       "model_id": "b1798d0f6c9f4acfbd3f7cfcb9109163",
       "version_major": 2,
       "version_minor": 0
      },
      "text/plain": [
       "A Jupyter Widget"
      ]
     },
     "metadata": {},
     "output_type": "display_data"
    }
   ],
   "source": [
    "pd.DataFrame({'y_pred': y_pred, 'y_obs': y_obs}, index=obs_md.index)"
   ]
  },
  {
   "cell_type": "code",
   "execution_count": 4,
   "metadata": {},
   "outputs": [],
   "source": [
    "#idx = np.arange(coords.shape[0])\n",
    "#np.random.shuffle(idx)\n",
    "#train_idx = idx[:9000]\n",
    "#test_idx = idx[9000:]"
   ]
  },
  {
   "cell_type": "code",
   "execution_count": 175,
   "metadata": {},
   "outputs": [
    {
     "data": {
      "text/plain": [
       "5674"
      ]
     },
     "execution_count": 175,
     "metadata": {},
     "output_type": "execute_result"
    }
   ],
   "source": [
    "(metadata.healthy=='False').sum()"
   ]
  },
  {
   "cell_type": "code",
   "execution_count": 17,
   "metadata": {},
   "outputs": [],
   "source": [
    "knn = KNN(k=20) \n",
    "model = knn.fit(X=coords.iloc[:9000], \n",
    "                y=metadata.iloc[:9000]) "
   ]
  },
  {
   "cell_type": "code",
   "execution_count": 18,
   "metadata": {},
   "outputs": [],
   "source": [
    "i = 9000\n",
    "gen = model.query(coords.iloc[i:])"
   ]
  },
  {
   "cell_type": "code",
   "execution_count": 25,
   "metadata": {},
   "outputs": [],
   "source": [
    "dist, md = next(gen)\n",
    "i += 1"
   ]
  },
  {
   "cell_type": "code",
   "execution_count": 26,
   "metadata": {},
   "outputs": [
    {
     "data": {
      "text/plain": [
       "'True'"
      ]
     },
     "execution_count": 26,
     "metadata": {},
     "output_type": "execute_result"
    }
   ],
   "source": [
    "metadata.loc[coords.iloc[i].name].healthy"
   ]
  },
  {
   "cell_type": "code",
   "execution_count": 27,
   "metadata": {},
   "outputs": [
    {
     "data": {
      "application/vnd.jupyter.widget-view+json": {
       "model_id": "8f3f31c453c640ae8cb76e3880e5561b",
       "version_major": 2,
       "version_minor": 0
      },
      "text/plain": [
       "A Jupyter Widget"
      ]
     },
     "metadata": {},
     "output_type": "display_data"
    }
   ],
   "source": [
    "pd.DataFrame({\"healthy\": md.healthy=='True', \"dist\": dist})"
   ]
  },
  {
   "cell_type": "code",
   "execution_count": 428,
   "metadata": {},
   "outputs": [
    {
     "data": {
      "application/vnd.jupyter.widget-view+json": {
       "model_id": "e09092554f1a417cbd8016533ef1a776",
       "version_major": 2,
       "version_minor": 0
      },
      "text/plain": [
       "A Jupyter Widget"
      ]
     },
     "metadata": {},
     "output_type": "display_data"
    }
   ],
   "source": [
    "metadata.loc[coords.loc['10317.000017664'].name]"
   ]
  },
  {
   "cell_type": "code",
   "execution_count": 349,
   "metadata": {},
   "outputs": [
    {
     "ename": "KeyboardInterrupt",
     "evalue": "",
     "output_type": "error",
     "traceback": [
      "\u001b[0;31m---------------------------------------------------------------------------\u001b[0m",
      "\u001b[0;31mKeyboardInterrupt\u001b[0m                         Traceback (most recent call last)",
      "\u001b[0;32m<ipython-input-349-626bbb9e2fb8>\u001b[0m in \u001b[0;36m<module>\u001b[0;34m()\u001b[0m\n\u001b[0;32m----> 1\u001b[0;31m \u001b[0mpred_md\u001b[0m \u001b[0;34m=\u001b[0m \u001b[0mmodel\u001b[0m\u001b[0;34m.\u001b[0m\u001b[0mpredict\u001b[0m\u001b[0;34m(\u001b[0m\u001b[0mX\u001b[0m\u001b[0;34m=\u001b[0m\u001b[0mcoords\u001b[0m\u001b[0;34m.\u001b[0m\u001b[0miloc\u001b[0m\u001b[0;34m[\u001b[0m\u001b[0;36m9400\u001b[0m\u001b[0;34m:\u001b[0m\u001b[0;34m]\u001b[0m\u001b[0;34m)\u001b[0m\u001b[0;34m\u001b[0m\u001b[0m\n\u001b[0m",
      "\u001b[0;32m~/Dropbox/UCSD/classes/cse258/assignment2/knn.py\u001b[0m in \u001b[0;36mpredict\u001b[0;34m(self, X)\u001b[0m\n\u001b[1;32m     71\u001b[0m         \u001b[0mgen\u001b[0m \u001b[0;34m=\u001b[0m \u001b[0mself\u001b[0m\u001b[0;34m.\u001b[0m\u001b[0mquery\u001b[0m\u001b[0;34m(\u001b[0m\u001b[0mX\u001b[0m\u001b[0;34m)\u001b[0m\u001b[0;34m\u001b[0m\u001b[0m\n\u001b[1;32m     72\u001b[0m         \u001b[0;31m# Need to figure out how to aggregate findings.\u001b[0m\u001b[0;34m\u001b[0m\u001b[0;34m\u001b[0m\u001b[0m\n\u001b[0;32m---> 73\u001b[0;31m         \u001b[0;32mfor\u001b[0m \u001b[0mi\u001b[0m\u001b[0;34m,\u001b[0m \u001b[0;34m(\u001b[0m\u001b[0mdist\u001b[0m\u001b[0;34m,\u001b[0m \u001b[0mmd\u001b[0m\u001b[0;34m)\u001b[0m \u001b[0;32min\u001b[0m \u001b[0menumerate\u001b[0m\u001b[0;34m(\u001b[0m\u001b[0mgen\u001b[0m\u001b[0;34m)\u001b[0m\u001b[0;34m:\u001b[0m\u001b[0;34m\u001b[0m\u001b[0m\n\u001b[0m\u001b[1;32m     74\u001b[0m             \u001b[0mx\u001b[0m \u001b[0;34m=\u001b[0m \u001b[0mX\u001b[0m\u001b[0;34m.\u001b[0m\u001b[0mindex\u001b[0m\u001b[0;34m[\u001b[0m\u001b[0mi\u001b[0m\u001b[0;34m]\u001b[0m\u001b[0;34m\u001b[0m\u001b[0m\n\u001b[1;32m     75\u001b[0m             \u001b[0;32mfor\u001b[0m \u001b[0mc\u001b[0m \u001b[0;32min\u001b[0m \u001b[0mself\u001b[0m\u001b[0;34m.\u001b[0m\u001b[0mmetadata\u001b[0m\u001b[0;34m.\u001b[0m\u001b[0mcolumns\u001b[0m\u001b[0;34m:\u001b[0m\u001b[0;34m\u001b[0m\u001b[0m\n",
      "\u001b[0;32m~/Dropbox/UCSD/classes/cse258/assignment2/knn.py\u001b[0m in \u001b[0;36mquery\u001b[0;34m(self, X)\u001b[0m\n\u001b[1;32m     47\u001b[0m         \"\"\"\n\u001b[1;32m     48\u001b[0m \u001b[0;34m\u001b[0m\u001b[0m\n\u001b[0;32m---> 49\u001b[0;31m         \u001b[0mdist\u001b[0m\u001b[0;34m,\u001b[0m \u001b[0mind\u001b[0m \u001b[0;34m=\u001b[0m \u001b[0mself\u001b[0m\u001b[0;34m.\u001b[0m\u001b[0mtree\u001b[0m\u001b[0;34m.\u001b[0m\u001b[0mquery\u001b[0m\u001b[0;34m(\u001b[0m\u001b[0mX\u001b[0m\u001b[0;34m.\u001b[0m\u001b[0mvalues\u001b[0m\u001b[0;34m,\u001b[0m \u001b[0mk\u001b[0m\u001b[0;34m=\u001b[0m\u001b[0mself\u001b[0m\u001b[0;34m.\u001b[0m\u001b[0mk\u001b[0m\u001b[0;34m)\u001b[0m\u001b[0;34m\u001b[0m\u001b[0m\n\u001b[0m\u001b[1;32m     50\u001b[0m         \u001b[0;32mfor\u001b[0m \u001b[0mi\u001b[0m \u001b[0;32min\u001b[0m \u001b[0mrange\u001b[0m\u001b[0;34m(\u001b[0m\u001b[0mX\u001b[0m\u001b[0;34m.\u001b[0m\u001b[0mshape\u001b[0m\u001b[0;34m[\u001b[0m\u001b[0;36m0\u001b[0m\u001b[0;34m]\u001b[0m\u001b[0;34m)\u001b[0m\u001b[0;34m:\u001b[0m\u001b[0;34m\u001b[0m\u001b[0m\n\u001b[1;32m     51\u001b[0m             \u001b[0mmd\u001b[0m \u001b[0;34m=\u001b[0m \u001b[0mself\u001b[0m\u001b[0;34m.\u001b[0m\u001b[0mmetadata\u001b[0m\u001b[0;34m.\u001b[0m\u001b[0miloc\u001b[0m\u001b[0;34m[\u001b[0m\u001b[0mind\u001b[0m\u001b[0;34m[\u001b[0m\u001b[0mi\u001b[0m\u001b[0;34m]\u001b[0m\u001b[0;34m.\u001b[0m\u001b[0mravel\u001b[0m\u001b[0;34m(\u001b[0m\u001b[0;34m)\u001b[0m\u001b[0;34m]\u001b[0m\u001b[0;34m\u001b[0m\u001b[0m\n",
      "\u001b[0;31mKeyboardInterrupt\u001b[0m: "
     ]
    }
   ],
   "source": [
    "pred_md = model.predict(X=coords.iloc[9400:])"
   ]
  },
  {
   "cell_type": "code",
   "execution_count": 106,
   "metadata": {},
   "outputs": [],
   "source": [
    "from sklearn.metrics import f1_score\n",
    "from sklearn.preprocessing import LabelEncoder\n",
    "\n",
    "def compare(obs_md, pred_md):\n",
    "    res = pd.DataFrame(columns=['type', \n",
    "                                'accuracy', 'f1_score',\n",
    "                                'MAE', '5%', '25%', '50%', '75%', '95%', 'ratio'\n",
    "                               ],\n",
    "                       index=obs_md.columns)\n",
    "    for c in obs_md.columns:\n",
    "        obs_col = obs_md[c].copy()\n",
    "        pred_col = pred_md[c].copy()\n",
    "        try:\n",
    "            # recognize that it is a floating point\n",
    "            obs_col = obs_col.astype(np.float)\n",
    "            res.loc[c, 'MAE'] = np.mean(np.abs(obs_col - pred_col).dropna())            \n",
    "            lower = np.nanpercentile(obs_col, 5)\n",
    "            upper = np.nanpercentile(obs_col, 95)\n",
    "            med = np.nanpercentile(obs_col, 50)\n",
    "            r = (med - lower) / (upper - lower)\n",
    "            if np.isnan(r):\n",
    "                r = 1\n",
    "            res.loc[c, '5%'] = lower\n",
    "            res.loc[c, '25%'] = np.nanpercentile(obs_col, 25)\n",
    "            res.loc[c, '50%'] = med\n",
    "            res.loc[c, '75%'] = np.nanpercentile(obs_col, 75)\n",
    "            res.loc[c, '95%'] = upper\n",
    "            res.loc[c, 'ratio'] = r\n",
    "            res.loc[c, 'type'] = 'continuous'\n",
    "        except:\n",
    "            obs_col = obs_col.astype(np.str)\n",
    "            pred_col = pred_col.astype(np.str)\n",
    "            le = LabelEncoder()\n",
    "            obs_col = obs_col.fillna('NaN')\n",
    "            pred_col = pred_col.fillna('NaN')\n",
    "            vals = set(obs_col.values) | set(pred_col.values)\n",
    "            le = le.fit(list(vals))\n",
    "            obs = le.transform(obs_col.values)\n",
    "            pred = le.transform(pred_col.values)\n",
    "            x = (obs == pred).astype(np.float)\n",
    "            res.loc[c, 'accuracy'] = np.sum(x) / len(obs_col)\n",
    "            res.loc[c, 'f1_score'] = f1_score(obs, pred, average='weighted')\n",
    "            res.loc[c, 'type'] = 'categorical'\n",
    "    return res"
   ]
  },
  {
   "cell_type": "code",
   "execution_count": 107,
   "metadata": {},
   "outputs": [
    {
     "name": "stderr",
     "output_type": "stream",
     "text": [
      "/Users/mortonjt/miniconda3/envs/cse258/lib/python3.6/site-packages/sklearn/metrics/classification.py:1135: UndefinedMetricWarning: F-score is ill-defined and being set to 0.0 in labels with no predicted samples.\n",
      "  'precision', 'predicted', average, warn_for)\n",
      "/Users/mortonjt/miniconda3/envs/cse258/lib/python3.6/site-packages/ipykernel_launcher.py:20: RuntimeWarning: invalid value encountered in double_scalars\n",
      "/Users/mortonjt/miniconda3/envs/cse258/lib/python3.6/site-packages/sklearn/metrics/classification.py:1137: UndefinedMetricWarning: F-score is ill-defined and being set to 0.0 in labels with no true samples.\n",
      "  'recall', 'true', average, warn_for)\n"
     ]
    }
   ],
   "source": [
    "stats = compare(obs_md, pred_md)"
   ]
  },
  {
   "cell_type": "code",
   "execution_count": 112,
   "metadata": {},
   "outputs": [
    {
     "data": {
      "application/vnd.jupyter.widget-view+json": {
       "model_id": "5ca4fc8e144e42b2a2b159356345427e",
       "version_major": 2,
       "version_minor": 0
      },
      "text/plain": [
       "A Jupyter Widget"
      ]
     },
     "metadata": {},
     "output_type": "display_data"
    }
   ],
   "source": [
    "stats.loc[stats.type=='categorical'].dropna(axis=1)"
   ]
  },
  {
   "cell_type": "code",
   "execution_count": 113,
   "metadata": {},
   "outputs": [
    {
     "data": {
      "application/vnd.jupyter.widget-view+json": {
       "model_id": "8090281a010742aa920c6b115e281dbd",
       "version_major": 2,
       "version_minor": 0
      },
      "text/plain": [
       "A Jupyter Widget"
      ]
     },
     "metadata": {},
     "output_type": "display_data"
    }
   ],
   "source": [
    "stats.loc[stats.type=='continuous'].dropna(axis=1)"
   ]
  },
  {
   "cell_type": "code",
   "execution_count": 124,
   "metadata": {},
   "outputs": [
    {
     "data": {
      "application/vnd.jupyter.widget-view+json": {
       "model_id": "959f6ef003ed4ae4b3ea7f0765f60c41",
       "version_major": 2,
       "version_minor": 0
      },
      "text/plain": [
       "A Jupyter Widget"
      ]
     },
     "metadata": {},
     "output_type": "display_data"
    }
   ],
   "source": [
    "pd.DataFrame({'obs': obs_md['ibd'], \n",
    "              'pred': pred_md['ibd']})"
   ]
  },
  {
   "cell_type": "code",
   "execution_count": null,
   "metadata": {},
   "outputs": [],
   "source": []
  }
 ],
 "metadata": {
  "kernelspec": {
   "display_name": "Python 3",
   "language": "python",
   "name": "python3"
  },
  "language_info": {
   "codemirror_mode": {
    "name": "ipython",
    "version": 3
   },
   "file_extension": ".py",
   "mimetype": "text/x-python",
   "name": "python",
   "nbconvert_exporter": "python",
   "pygments_lexer": "ipython3",
   "version": "3.6.3"
  }
 },
 "nbformat": 4,
 "nbformat_minor": 2
}
